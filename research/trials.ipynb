{
 "cells": [
  {
   "cell_type": "code",
   "execution_count": 1,
   "id": "74fe8757",
   "metadata": {},
   "outputs": [
    {
     "name": "stdout",
     "output_type": "stream",
     "text": [
      "Ok\n"
     ]
    }
   ],
   "source": [
    "print(\"Ok\")"
   ]
  },
  {
   "cell_type": "code",
   "execution_count": 2,
   "id": "c6b0168d",
   "metadata": {},
   "outputs": [
    {
     "data": {
      "text/plain": [
       "'d:\\\\EPICS2.0\\\\AshaAI\\\\research'"
      ]
     },
     "execution_count": 2,
     "metadata": {},
     "output_type": "execute_result"
    }
   ],
   "source": [
    "%pwd"
   ]
  },
  {
   "cell_type": "code",
   "execution_count": 3,
   "id": "5e177cb8",
   "metadata": {},
   "outputs": [],
   "source": [
    "import os\n",
    "os.chdir(\"../\")"
   ]
  },
  {
   "cell_type": "code",
   "execution_count": 4,
   "id": "9d90f4f6",
   "metadata": {},
   "outputs": [
    {
     "data": {
      "text/plain": [
       "'d:\\\\EPICS2.0\\\\AshaAI'"
      ]
     },
     "execution_count": 4,
     "metadata": {},
     "output_type": "execute_result"
    }
   ],
   "source": [
    "%pwd"
   ]
  },
  {
   "cell_type": "code",
   "execution_count": 5,
   "id": "fef09a85",
   "metadata": {},
   "outputs": [],
   "source": [
    "from langchain.document_loaders import PyPDFLoader, DirectoryLoader\n",
    "from langchain.text_splitter import RecursiveCharacterTextSplitter"
   ]
  },
  {
   "cell_type": "code",
   "execution_count": 6,
   "id": "4a9f5e34",
   "metadata": {},
   "outputs": [],
   "source": [
    "#Extract Data From the PDF File\n",
    "def load_pdf_file(data):\n",
    "    loader= DirectoryLoader(data,\n",
    "                            glob=\"*.pdf\",\n",
    "                            loader_cls=PyPDFLoader)\n",
    "\n",
    "    documents=loader.load()\n",
    "\n",
    "    return documents\n"
   ]
  },
  {
   "cell_type": "code",
   "execution_count": 7,
   "id": "99d91860",
   "metadata": {},
   "outputs": [],
   "source": [
    "extracted_data=load_pdf_file(data='Data/')"
   ]
  },
  {
   "cell_type": "code",
   "execution_count": null,
   "id": "11b41d3a",
   "metadata": {},
   "outputs": [],
   "source": [
    "# extracted_data"
   ]
  },
  {
   "cell_type": "code",
   "execution_count": 8,
   "id": "4f288a89",
   "metadata": {},
   "outputs": [],
   "source": [
    "#Split the Data into Text Chunks\n",
    "def text_split(extracted_data):\n",
    "    text_splitter=RecursiveCharacterTextSplitter(chunk_size=500, chunk_overlap=20)\n",
    "    text_chunks=text_splitter.split_documents(extracted_data)\n",
    "    return text_chunks"
   ]
  },
  {
   "cell_type": "code",
   "execution_count": 9,
   "id": "c824d188",
   "metadata": {},
   "outputs": [
    {
     "name": "stdout",
     "output_type": "stream",
     "text": [
      "Lengath of Text Chunks 5860\n"
     ]
    }
   ],
   "source": [
    "text_chunks=text_split(extracted_data)\n",
    "print(\"Lengath of Text Chunks\", len(text_chunks))"
   ]
  },
  {
   "cell_type": "code",
   "execution_count": 10,
   "id": "097acf19",
   "metadata": {},
   "outputs": [],
   "source": [
    "# text_chunks\n"
   ]
  },
  {
   "cell_type": "code",
   "execution_count": 14,
   "id": "0391b1c2",
   "metadata": {},
   "outputs": [],
   "source": [
    "from langchain_huggingface import HuggingFaceEmbeddings"
   ]
  },
  {
   "cell_type": "code",
   "execution_count": 15,
   "id": "cf809c4d",
   "metadata": {},
   "outputs": [],
   "source": [
    "#Download the Embeddings from Hugging Face\n",
    "def download_hugging_face_embeddings():\n",
    "    embeddings=HuggingFaceEmbeddings(model_name='sentence-transformers/all-MiniLM-L6-v2')\n",
    "    return embeddings\n"
   ]
  },
  {
   "cell_type": "code",
   "execution_count": 16,
   "id": "104f632a",
   "metadata": {},
   "outputs": [],
   "source": [
    "embeddings = download_hugging_face_embeddings()"
   ]
  },
  {
   "cell_type": "code",
   "execution_count": 17,
   "id": "41a83986",
   "metadata": {},
   "outputs": [
    {
     "name": "stdout",
     "output_type": "stream",
     "text": [
      "Length 384\n"
     ]
    }
   ],
   "source": [
    "query_result = embeddings.embed_query(\"Hello world\")\n",
    "print(\"Length\", len(query_result))"
   ]
  },
  {
   "cell_type": "code",
   "execution_count": 18,
   "id": "f1c11098",
   "metadata": {},
   "outputs": [],
   "source": [
    "# query_result"
   ]
  },
  {
   "cell_type": "code",
   "execution_count": 54,
   "id": "9b06a5a4",
   "metadata": {},
   "outputs": [
    {
     "data": {
      "text/plain": [
       "True"
      ]
     },
     "execution_count": 54,
     "metadata": {},
     "output_type": "execute_result"
    }
   ],
   "source": [
    "from dotenv import load_dotenv\n",
    "load_dotenv()"
   ]
  },
  {
   "cell_type": "code",
   "execution_count": 55,
   "id": "5a2026ca",
   "metadata": {},
   "outputs": [],
   "source": [
    "PINECONE_API_KEY=os.environ.get('PINECONE_API_KEY')\n",
    "TOGETHER_API_KEY=os.environ.get('TOGETHER_API_KEY')"
   ]
  },
  {
   "cell_type": "code",
   "execution_count": 21,
   "id": "866de70a",
   "metadata": {},
   "outputs": [
    {
     "data": {
      "text/plain": [
       "{\n",
       "    \"name\": \"ashaai\",\n",
       "    \"metric\": \"cosine\",\n",
       "    \"host\": \"ashaai-4345at0.svc.aped-4627-b74a.pinecone.io\",\n",
       "    \"spec\": {\n",
       "        \"serverless\": {\n",
       "            \"cloud\": \"aws\",\n",
       "            \"region\": \"us-east-1\"\n",
       "        }\n",
       "    },\n",
       "    \"status\": {\n",
       "        \"ready\": true,\n",
       "        \"state\": \"Ready\"\n",
       "    },\n",
       "    \"vector_type\": \"dense\",\n",
       "    \"dimension\": 384,\n",
       "    \"deletion_protection\": \"disabled\",\n",
       "    \"tags\": null\n",
       "}"
      ]
     },
     "execution_count": 21,
     "metadata": {},
     "output_type": "execute_result"
    }
   ],
   "source": [
    "from pinecone.grpc import PineconeGRPC as Pinecone\n",
    "from pinecone import ServerlessSpec\n",
    "import os\n",
    "\n",
    "pc = Pinecone(api_key=PINECONE_API_KEY)\n",
    "\n",
    "index_name = \"ashaai\"\n",
    "\n",
    "\n",
    "pc.create_index(\n",
    "    name=index_name,\n",
    "    dimension=384, \n",
    "    metric=\"cosine\", \n",
    "    spec=ServerlessSpec(\n",
    "        cloud=\"aws\", \n",
    "        region=\"us-east-1\"\n",
    "    ) \n",
    ") "
   ]
  },
  {
   "cell_type": "code",
   "execution_count": 56,
   "id": "b07515da",
   "metadata": {},
   "outputs": [],
   "source": [
    "import os\n",
    "os.environ[\"PINECONE_API_KEY\"] = PINECONE_API_KEY\n",
    "os.environ[\"TOGETHER_API_KEY\"] = TOGETHER_API_KEY"
   ]
  },
  {
   "cell_type": "code",
   "execution_count": 23,
   "id": "37df5458",
   "metadata": {},
   "outputs": [],
   "source": [
    "# Embed each chunk and upsert the embeddings into your Pinecone index.\n",
    "from langchain_pinecone import PineconeVectorStore\n",
    "\n",
    "docsearch = PineconeVectorStore.from_documents(\n",
    "    documents=text_chunks,\n",
    "    index_name=index_name,\n",
    "    embedding=embeddings, \n",
    ")"
   ]
  },
  {
   "cell_type": "code",
   "execution_count": 24,
   "id": "eb6f1cc8",
   "metadata": {},
   "outputs": [],
   "source": [
    "# Load Existing index \n",
    "\n",
    "from langchain_pinecone import PineconeVectorStore\n",
    "# Embed each chunk and upsert the embeddings into your Pinecone index.\n",
    "docsearch = PineconeVectorStore.from_existing_index(\n",
    "    index_name=index_name,\n",
    "    embedding=embeddings\n",
    ")"
   ]
  },
  {
   "cell_type": "code",
   "execution_count": 25,
   "id": "06324ea4",
   "metadata": {},
   "outputs": [
    {
     "data": {
      "text/plain": [
       "<langchain_pinecone.vectorstores.PineconeVectorStore at 0x27d1c129450>"
      ]
     },
     "execution_count": 25,
     "metadata": {},
     "output_type": "execute_result"
    }
   ],
   "source": [
    "docsearch\n"
   ]
  },
  {
   "cell_type": "code",
   "execution_count": 26,
   "id": "1259e14d",
   "metadata": {},
   "outputs": [],
   "source": [
    "retriever = docsearch.as_retriever(search_type=\"similarity\", search_kwargs={\"k\":3})"
   ]
  },
  {
   "cell_type": "code",
   "execution_count": 29,
   "id": "e838e9d4",
   "metadata": {},
   "outputs": [],
   "source": [
    "retrieved_docs = retriever.invoke(\"what is Acromegaly?\")\n"
   ]
  },
  {
   "cell_type": "code",
   "execution_count": 57,
   "id": "3a8f8df2",
   "metadata": {},
   "outputs": [
    {
     "data": {
      "text/plain": [
       "[Document(id='d42a5ba4-872b-4788-b973-0e4da5ed428f', metadata={'creationdate': '2004-12-18T17:00:02-05:00', 'creator': 'PyPDF', 'moddate': '2004-12-18T16:15:31-06:00', 'page': 45.0, 'page_label': '46', 'producer': 'PDFlib+PDI 5.0.0 (SunOS)', 'source': 'Data\\\\Medical_book.pdf', 'total_pages': 637.0}, page_content='Whitehouse Station, NJ: Merck Research Laboratories,\\n1997.\\nLarsen, D. E., ed. Mayo Clinic Family Health Book.New York:\\nWilliam Morrow and Co., Inc., 1996.\\nJohn T. Lohr, PhD\\nAcromegaly and gigantism\\nDefinition\\nAcromegaly is a disorder in which the abnormal\\nrelease of a particular chemical from the pituitary gland\\nin the brain causes increased growth in bone and soft tis-\\nsue, as well as a variety of other disturbances throughout\\nthe body. This chemical released from the pituitary gland'),\n",
       " Document(id='3869228d-d410-4053-85bb-296515189ae5', metadata={'creationdate': '2004-12-18T17:00:02-05:00', 'creator': 'PyPDF', 'moddate': '2004-12-18T16:15:31-06:00', 'page': 46.0, 'page_label': '47', 'producer': 'PDFlib+PDI 5.0.0 (SunOS)', 'source': 'Data\\\\Medical_book.pdf', 'total_pages': 637.0}, page_content='GH in the blood is not sufficient to merit a diagnosis of\\nacromegaly. Instead, laboratory tests measuring an\\nincrease of IGF-1 (3-10 times above the normal level) are\\nuseful. These results, however, must be carefully inter-\\npreted because normal laboratory values for IGF-1 vary\\nwhen the patient is pregnant, undergoing puberty, elder-\\nly, or severely malnourished. Normal patients will show a\\ndecrease in GH production when given a large dose of'),\n",
       " Document(id='e8bf09e8-6f51-4e3b-9210-531fffdd4ab4', metadata={'creationdate': '2004-12-18T17:00:02-05:00', 'creator': 'PyPDF', 'moddate': '2004-12-18T16:15:31-06:00', 'page': 45.0, 'page_label': '46', 'producer': 'PDFlib+PDI 5.0.0 (SunOS)', 'source': 'Data\\\\Medical_book.pdf', 'total_pages': 637.0}, page_content='unusual height. When the abnormality occurs after bone\\ngrowth stops, the disorder is called acromegaly.\\nDescription\\nAcromegaly is a relatively rare disorder, occurring in\\napproximately 50 out of every one million people (50/\\n1,000,000). Both men and women are affected. Because\\nthe symptoms of acromegaly occur so gradually, diagno-\\nsis is often delayed. The majority of patients are not\\nidentified until they are middle aged.\\nCauses and symptoms')]"
      ]
     },
     "execution_count": 57,
     "metadata": {},
     "output_type": "execute_result"
    }
   ],
   "source": [
    "retrieved_docs"
   ]
  },
  {
   "cell_type": "code",
   "execution_count": 68,
   "id": "97a405ef",
   "metadata": {},
   "outputs": [],
   "source": [
    "from langchain.llms import Together\n",
    "\n",
    "llm = Together(\n",
    "    model=\"mistralai/Mistral-7B-Instruct-v0.1\",  # ✅ Working model\n",
    "    temperature=0.4,\n",
    "    max_tokens=500\n",
    ")\n"
   ]
  },
  {
   "cell_type": "code",
   "execution_count": 72,
   "id": "185fee6b",
   "metadata": {},
   "outputs": [],
   "source": [
    "from langchain.llms import Together\n",
    "from langchain.chains import create_retrieval_chain\n",
    "from langchain.chains.combine_documents import create_stuff_documents_chain\n",
    "from langchain_core.prompts import ChatPromptTemplate\n",
    "from langchain_core.runnables import Runnable\n",
    "import os\n",
    "\n",
    "# Set Together API key\n",
    "os.environ[\"TOGETHER_API_KEY\"] = \"8c2f5d82e8f6608273adbe1cb4c151589073baf128eccf959c1bb8936b88d92b\"  # Replace with your actual API key\n",
    "\n",
    "# Initialize Together LLM\n",
    "llm = Together(\n",
    "    model=\"mistralai/Mistral-7B-Instruct-v0.1\",\n",
    "    temperature=0.4,\n",
    "    max_tokens=500\n",
    ")\n",
    "\n",
    "# System prompt template\n",
    "system_prompt = (\n",
    "    \"You are AshaAI, a helpful and concise medical assistant designed for Indian farmers. \"\n",
    "    \"Use the following retrieved context from trusted medical sources to answer the user's query. \"\n",
    "    \"If the answer is unknown, say so honestly. Keep the answer short (2-3 sentences), friendly, and informative.\\n\\n\"\n",
    "    \"{context}\"\n",
    ")\n",
    "\n",
    "# Define the ChatPromptTemplate\n",
    "prompt = ChatPromptTemplate.from_messages(\n",
    "    [\n",
    "        (\"system\", system_prompt),\n",
    "        (\"human\", \"{input}\"),\n",
    "    ]\n",
    ")\n"
   ]
  },
  {
   "cell_type": "code",
   "execution_count": 73,
   "id": "6dcbd732",
   "metadata": {},
   "outputs": [],
   "source": [
    "question_answer_chain = create_stuff_documents_chain(llm, prompt)\n",
    "rag_chain = create_retrieval_chain(retriever, question_answer_chain)"
   ]
  },
  {
   "cell_type": "code",
   "execution_count": 75,
   "id": "1fc58387",
   "metadata": {},
   "outputs": [
    {
     "name": "stdout",
     "output_type": "stream",
     "text": [
      "\n",
      "Acromegaly is caused by a tumor of the pituitary gland.\n",
      "The pituitary gland is a small gland located in the base of the\n",
      "brain. It controls the function of many other glands in the\n",
      "body, including the thyroid, parathyroid, and adrenal glands.\n",
      "The pituitary gland also produces a hormone called growth\n",
      "hormone (GH). When the pituitary gland produces too much\n",
      "GH, it causes a disorder called acromegaly.\n",
      "\n",
      "The symptoms of acromegaly are caused by the abnormal\n",
      "release of a particular chemical (insulin-like growth factor\n",
      "(IGF-1)) from the pituitary gland. IGF-1 stimulates the\n",
      "growth of bones and soft tissues, which leads to the\n",
      "symptoms of acromegaly.\n",
      "\n",
      "Symptoms of acromegaly include:\n",
      "\n",
      "1. Enlarged hands and feet\n",
      "2. Deepening of the voice\n",
      "3. Thickening of the skin\n",
      "4. Sleep apnea\n",
      "5. Joint pain and stiffness\n",
      "6. Increased sweating\n",
      "7. Fatigue\n",
      "8. Decreased sexual function\n",
      "9. Irritability\n",
      "10. Depression\n",
      "\n",
      "Acromegaly can also cause other problems, such as high blood pressure, diabetes, and heart disease.\n",
      "\n",
      "Diagnosis\n",
      "Diagnosis of acromegaly is made by the presence of an\n",
      "increase in IGF-1 (3-10 times above the normal level) in the\n",
      "blood. The diagnosis is usually made by a physician who\n",
      "specializes in endocrinology.\n",
      "\n",
      "Treatment\n",
      "Acromegaly can be treated with surgery to remove the tumor\n",
      "from the pituitary gland. Radiation therapy can also be used\n",
      "to shrink the tumor. Medications that block the abnormal\n",
      "release of IGF-1 can be used to treat acromegaly.\n",
      "\n",
      "Prognosis\n",
      "The prognosis for acromegaly depends on the severity of the\n",
      "symptoms and the extent of the damage to the body. With\n",
      "treatment, the symptoms of acromegaly can be controlled.\n",
      "\n",
      "Acromegaly is a rare disorder that affects\n"
     ]
    }
   ],
   "source": [
    "response = rag_chain.invoke({\"input\": \"what is Acromegaly?\"})\n",
    "print(response[\"answer\"])\n"
   ]
  },
  {
   "cell_type": "code",
   "execution_count": 78,
   "id": "ac192f92",
   "metadata": {},
   "outputs": [
    {
     "name": "stdout",
     "output_type": "stream",
     "text": [
      "\n",
      "\n",
      "AshaAI: Stats is short for statistics. Statistics is a branch of mathematics that deals with the collection, analysis, interpretation, presentation, and organization of data. It is used to describe patterns, trends, and relationships in data. In sports, stats are used to track and analyze the performance of athletes and teams.\n"
     ]
    }
   ],
   "source": [
    "response = rag_chain.invoke({\"input\": \"What is stats?\"})\n",
    "print(response[\"answer\"])"
   ]
  }
 ],
 "metadata": {
  "kernelspec": {
   "display_name": "ashaai",
   "language": "python",
   "name": "python3"
  },
  "language_info": {
   "codemirror_mode": {
    "name": "ipython",
    "version": 3
   },
   "file_extension": ".py",
   "mimetype": "text/x-python",
   "name": "python",
   "nbconvert_exporter": "python",
   "pygments_lexer": "ipython3",
   "version": "3.10.16"
  }
 },
 "nbformat": 4,
 "nbformat_minor": 5
}
