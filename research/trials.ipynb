{
 "cells": [
  {
   "cell_type": "code",
   "execution_count": 1,
   "id": "74fe8757",
   "metadata": {},
   "outputs": [
    {
     "name": "stdout",
     "output_type": "stream",
     "text": [
      "Ok\n"
     ]
    }
   ],
   "source": [
    "print(\"Ok\")"
   ]
  },
  {
   "cell_type": "code",
   "execution_count": 2,
   "id": "c6b0168d",
   "metadata": {},
   "outputs": [
    {
     "data": {
      "text/plain": [
       "'d:\\\\EPICS2.0\\\\AshaAI\\\\research'"
      ]
     },
     "execution_count": 2,
     "metadata": {},
     "output_type": "execute_result"
    }
   ],
   "source": [
    "%pwd"
   ]
  },
  {
   "cell_type": "code",
   "execution_count": 3,
   "id": "5e177cb8",
   "metadata": {},
   "outputs": [],
   "source": [
    "import os\n",
    "os.chdir(\"../\")"
   ]
  },
  {
   "cell_type": "code",
   "execution_count": 4,
   "id": "9d90f4f6",
   "metadata": {},
   "outputs": [
    {
     "data": {
      "text/plain": [
       "'d:\\\\EPICS2.0\\\\AshaAI'"
      ]
     },
     "execution_count": 4,
     "metadata": {},
     "output_type": "execute_result"
    }
   ],
   "source": [
    "%pwd"
   ]
  },
  {
   "cell_type": "code",
   "execution_count": 5,
   "id": "fef09a85",
   "metadata": {},
   "outputs": [],
   "source": [
    "from langchain.document_loaders import PyPDFLoader, DirectoryLoader # type: ignore\n",
    "from langchain.text_splitter import RecursiveCharacterTextSplitter # type: ignore"
   ]
  },
  {
   "cell_type": "code",
   "execution_count": 6,
   "id": "4a9f5e34",
   "metadata": {},
   "outputs": [],
   "source": [
    "#Extract Data From the PDF File\n",
    "def load_pdf_file(data):\n",
    "    loader= DirectoryLoader(data,\n",
    "                            glob=\"*.pdf\",\n",
    "                            loader_cls=PyPDFLoader)\n",
    "\n",
    "    documents=loader.load()\n",
    "\n",
    "    return documents\n"
   ]
  },
  {
   "cell_type": "code",
   "execution_count": 7,
   "id": "99d91860",
   "metadata": {},
   "outputs": [],
   "source": [
    "extracted_data=load_pdf_file(data='Data/')"
   ]
  },
  {
   "cell_type": "code",
   "execution_count": 8,
   "id": "11b41d3a",
   "metadata": {},
   "outputs": [],
   "source": [
    "# extracted_data"
   ]
  },
  {
   "cell_type": "code",
   "execution_count": 9,
   "id": "4f288a89",
   "metadata": {},
   "outputs": [],
   "source": [
    "#Split the Data into Text Chunks\n",
    "def text_split(extracted_data):\n",
    "    text_splitter=RecursiveCharacterTextSplitter(chunk_size=500, chunk_overlap=20)\n",
    "    text_chunks=text_splitter.split_documents(extracted_data)\n",
    "    return text_chunks"
   ]
  },
  {
   "cell_type": "code",
   "execution_count": 10,
   "id": "c824d188",
   "metadata": {},
   "outputs": [
    {
     "name": "stdout",
     "output_type": "stream",
     "text": [
      "Lengath of Text Chunks 5860\n"
     ]
    }
   ],
   "source": [
    "text_chunks=text_split(extracted_data)\n",
    "print(\"Lengath of Text Chunks\", len(text_chunks))"
   ]
  },
  {
   "cell_type": "code",
   "execution_count": 11,
   "id": "097acf19",
   "metadata": {},
   "outputs": [],
   "source": [
    "# text_chunks\n"
   ]
  },
  {
   "cell_type": "code",
   "execution_count": 12,
   "id": "0391b1c2",
   "metadata": {},
   "outputs": [],
   "source": [
    "from langchain_huggingface import HuggingFaceEmbeddings # type: ignore"
   ]
  },
  {
   "cell_type": "code",
   "execution_count": 13,
   "id": "cf809c4d",
   "metadata": {},
   "outputs": [],
   "source": [
    "#Download the Embeddings from Hugging Face\n",
    "def download_hugging_face_embeddings():\n",
    "    embeddings=HuggingFaceEmbeddings(model_name='sentence-transformers/all-MiniLM-L6-v2')\n",
    "    return embeddings\n"
   ]
  },
  {
   "cell_type": "code",
   "execution_count": 14,
   "id": "104f632a",
   "metadata": {},
   "outputs": [
    {
     "name": "stderr",
     "output_type": "stream",
     "text": [
      "c:\\Users\\anshu\\anaconda3\\envs\\ashaai\\lib\\site-packages\\tqdm\\auto.py:21: TqdmWarning: IProgress not found. Please update jupyter and ipywidgets. See https://ipywidgets.readthedocs.io/en/stable/user_install.html\n",
      "  from .autonotebook import tqdm as notebook_tqdm\n"
     ]
    }
   ],
   "source": [
    "embeddings = download_hugging_face_embeddings()"
   ]
  },
  {
   "cell_type": "code",
   "execution_count": 15,
   "id": "41a83986",
   "metadata": {},
   "outputs": [
    {
     "name": "stdout",
     "output_type": "stream",
     "text": [
      "Length 384\n"
     ]
    }
   ],
   "source": [
    "query_result = embeddings.embed_query(\"Hello world\")\n",
    "print(\"Length\", len(query_result))"
   ]
  },
  {
   "cell_type": "code",
   "execution_count": 16,
   "id": "f1c11098",
   "metadata": {},
   "outputs": [],
   "source": [
    "# query_result"
   ]
  },
  {
   "cell_type": "code",
   "execution_count": 17,
   "id": "9b06a5a4",
   "metadata": {},
   "outputs": [
    {
     "data": {
      "text/plain": [
       "True"
      ]
     },
     "execution_count": 17,
     "metadata": {},
     "output_type": "execute_result"
    }
   ],
   "source": [
    "from dotenv import load_dotenv # type: ignore\n",
    "load_dotenv()"
   ]
  },
  {
   "cell_type": "code",
   "execution_count": 18,
   "id": "5a2026ca",
   "metadata": {},
   "outputs": [],
   "source": [
    "PINECONE_API_KEY=os.environ.get('PINECONE_API_KEY')\n",
    "TOGETHER_API_KEY=os.environ.get('TOGETHER_API_KEY')"
   ]
  },
  {
   "cell_type": "code",
   "execution_count": 24,
   "id": "866de70a",
   "metadata": {},
   "outputs": [
    {
     "data": {
      "text/plain": [
       "{\n",
       "    \"name\": \"ashaai\",\n",
       "    \"metric\": \"cosine\",\n",
       "    \"host\": \"ashaai-4345at0.svc.aped-4627-b74a.pinecone.io\",\n",
       "    \"spec\": {\n",
       "        \"serverless\": {\n",
       "            \"cloud\": \"aws\",\n",
       "            \"region\": \"us-east-1\"\n",
       "        }\n",
       "    },\n",
       "    \"status\": {\n",
       "        \"ready\": true,\n",
       "        \"state\": \"Ready\"\n",
       "    },\n",
       "    \"vector_type\": \"dense\",\n",
       "    \"dimension\": 384,\n",
       "    \"deletion_protection\": \"disabled\",\n",
       "    \"tags\": null\n",
       "}"
      ]
     },
     "execution_count": 24,
     "metadata": {},
     "output_type": "execute_result"
    }
   ],
   "source": [
    "from pinecone.grpc import PineconeGRPC as Pinecone # type: ignore\n",
    "from pinecone import ServerlessSpec # type: ignore\n",
    "import os\n",
    "\n",
    "pc = Pinecone(api_key=PINECONE_API_KEY)\n",
    "\n",
    "index_name = \"ashaai\"\n",
    "\n",
    "\n",
    "pc.create_index(\n",
    "    name=index_name,\n",
    "    dimension=384, \n",
    "    metric=\"cosine\", \n",
    "    spec=ServerlessSpec(\n",
    "        cloud=\"aws\", \n",
    "        region=\"us-east-1\"\n",
    "    ) \n",
    ") "
   ]
  },
  {
   "cell_type": "code",
   "execution_count": 25,
   "id": "b07515da",
   "metadata": {},
   "outputs": [],
   "source": [
    "import os\n",
    "os.environ[\"PINECONE_API_KEY\"] = PINECONE_API_KEY\n",
    "os.environ[\"TOGETHER_API_KEY\"] = TOGETHER_API_KEY"
   ]
  },
  {
   "cell_type": "code",
   "execution_count": 26,
   "id": "37df5458",
   "metadata": {},
   "outputs": [],
   "source": [
    "# Embed each chunk and upsert the embeddings into your Pinecone index.\n",
    "from langchain_pinecone import PineconeVectorStore # type: ignore\n",
    "\n",
    "docsearch = PineconeVectorStore.from_documents(\n",
    "    documents=text_chunks,\n",
    "    index_name=index_name,\n",
    "    embedding=embeddings, \n",
    ")"
   ]
  },
  {
   "cell_type": "code",
   "execution_count": 27,
   "id": "eb6f1cc8",
   "metadata": {},
   "outputs": [],
   "source": [
    "# Load Existing index \n",
    "\n",
    "from langchain_pinecone import PineconeVectorStore # type: ignore\n",
    "# Embed each chunk and upsert the embeddings into your Pinecone index.\n",
    "docsearch = PineconeVectorStore.from_existing_index(\n",
    "    index_name=index_name,\n",
    "    embedding=embeddings\n",
    ")"
   ]
  },
  {
   "cell_type": "code",
   "execution_count": 28,
   "id": "06324ea4",
   "metadata": {},
   "outputs": [
    {
     "data": {
      "text/plain": [
       "<langchain_pinecone.vectorstores.PineconeVectorStore at 0x1e09b2c2590>"
      ]
     },
     "execution_count": 28,
     "metadata": {},
     "output_type": "execute_result"
    }
   ],
   "source": [
    "docsearch\n"
   ]
  },
  {
   "cell_type": "code",
   "execution_count": 29,
   "id": "1259e14d",
   "metadata": {},
   "outputs": [],
   "source": [
    "retriever = docsearch.as_retriever(search_type=\"similarity\", search_kwargs={\"k\":3})"
   ]
  },
  {
   "cell_type": "code",
   "execution_count": 30,
   "id": "e838e9d4",
   "metadata": {},
   "outputs": [],
   "source": [
    "retrieved_docs = retriever.invoke(\"what is Acromegaly?\")\n"
   ]
  },
  {
   "cell_type": "code",
   "execution_count": 31,
   "id": "3a8f8df2",
   "metadata": {},
   "outputs": [
    {
     "data": {
      "text/plain": [
       "[Document(id='e89361a2-23f9-4610-a900-85979e8823fb', metadata={'creationdate': '2004-12-18T17:00:02-05:00', 'creator': 'PyPDF', 'moddate': '2004-12-18T16:15:31-06:00', 'page': 45.0, 'page_label': '46', 'producer': 'PDFlib+PDI 5.0.0 (SunOS)', 'source': 'Data\\\\Medical_book.pdf', 'total_pages': 637.0}, page_content='Whitehouse Station, NJ: Merck Research Laboratories,\\n1997.\\nLarsen, D. E., ed. Mayo Clinic Family Health Book.New York:\\nWilliam Morrow and Co., Inc., 1996.\\nJohn T. Lohr, PhD\\nAcromegaly and gigantism\\nDefinition\\nAcromegaly is a disorder in which the abnormal\\nrelease of a particular chemical from the pituitary gland\\nin the brain causes increased growth in bone and soft tis-\\nsue, as well as a variety of other disturbances throughout\\nthe body. This chemical released from the pituitary gland'),\n",
       " Document(id='df6b070d-e71a-4e5d-acca-b5f09da1e043', metadata={'creationdate': '2004-12-18T17:00:02-05:00', 'creator': 'PyPDF', 'moddate': '2004-12-18T16:15:31-06:00', 'page': 46.0, 'page_label': '47', 'producer': 'PDFlib+PDI 5.0.0 (SunOS)', 'source': 'Data\\\\Medical_book.pdf', 'total_pages': 637.0}, page_content='GH in the blood is not sufficient to merit a diagnosis of\\nacromegaly. Instead, laboratory tests measuring an\\nincrease of IGF-1 (3-10 times above the normal level) are\\nuseful. These results, however, must be carefully inter-\\npreted because normal laboratory values for IGF-1 vary\\nwhen the patient is pregnant, undergoing puberty, elder-\\nly, or severely malnourished. Normal patients will show a\\ndecrease in GH production when given a large dose of'),\n",
       " Document(id='64e675ff-dc33-4526-8743-72cb79cc5de3', metadata={'creationdate': '2004-12-18T17:00:02-05:00', 'creator': 'PyPDF', 'moddate': '2004-12-18T16:15:31-06:00', 'page': 45.0, 'page_label': '46', 'producer': 'PDFlib+PDI 5.0.0 (SunOS)', 'source': 'Data\\\\Medical_book.pdf', 'total_pages': 637.0}, page_content='unusual height. When the abnormality occurs after bone\\ngrowth stops, the disorder is called acromegaly.\\nDescription\\nAcromegaly is a relatively rare disorder, occurring in\\napproximately 50 out of every one million people (50/\\n1,000,000). Both men and women are affected. Because\\nthe symptoms of acromegaly occur so gradually, diagno-\\nsis is often delayed. The majority of patients are not\\nidentified until they are middle aged.\\nCauses and symptoms')]"
      ]
     },
     "execution_count": 31,
     "metadata": {},
     "output_type": "execute_result"
    }
   ],
   "source": [
    "retrieved_docs"
   ]
  },
  {
   "cell_type": "code",
   "execution_count": 32,
   "id": "97a405ef",
   "metadata": {},
   "outputs": [
    {
     "name": "stderr",
     "output_type": "stream",
     "text": [
      "C:\\Users\\anshu\\AppData\\Local\\Temp\\ipykernel_11484\\24720287.py:3: LangChainDeprecationWarning: The class `Together` was deprecated in LangChain 0.0.12 and will be removed in 1.0. An updated version of the class exists in the :class:`~langchain-together package and should be used instead. To use it run `pip install -U :class:`~langchain-together` and import as `from :class:`~langchain_together import Together``.\n",
      "  llm = Together(\n"
     ]
    }
   ],
   "source": [
    "from langchain.llms import Together # type: ignore\n",
    "\n",
    "llm = Together(\n",
    "    model=\"mistralai/Mistral-7B-Instruct-v0.1\",  # ✅ Working model\n",
    "    temperature=0.4,\n",
    "    max_tokens=500\n",
    ")\n"
   ]
  },
  {
   "cell_type": "code",
   "execution_count": 33,
   "id": "185fee6b",
   "metadata": {},
   "outputs": [],
   "source": [
    "from langchain.llms import Together # type: ignore\n",
    "from langchain.chains import create_retrieval_chain # type: ignore\n",
    "from langchain.chains.combine_documents import create_stuff_documents_chain # type: ignore\n",
    "from langchain_core.prompts import ChatPromptTemplate # type: ignore\n",
    "from langchain_core.runnables import Runnable # type: ignore\n",
    "import os\n",
    "\n",
    "# Set Together API key\n",
    "os.environ[\"TOGETHER_API_KEY\"] = \"8c2f5d82e8f6608273adbe1cb4c151589073baf128eccf959c1bb8936b88d92b\"  # Replace with your actual API key\n",
    "\n",
    "# Initialize Together LLM\n",
    "llm = Together(\n",
    "    model=\"mistralai/Mistral-7B-Instruct-v0.1\",\n",
    "    temperature=0.4,\n",
    "    max_tokens=500\n",
    ")\n",
    "\n",
    "# System prompt template\n",
    "system_prompt = (\n",
    "    \"You are AshaAI, a helpful and concise medical assistant designed for Indian farmers. \"\n",
    "    \"Use the following retrieved context from trusted medical sources to answer the user's query. \"\n",
    "    \"If the answer is unknown, say so honestly. Keep the answer short (2-3 sentences), friendly, and informative.\\n\\n\"\n",
    "    \"{context}\"\n",
    ")\n",
    "\n",
    "# Define the ChatPromptTemplate\n",
    "prompt = ChatPromptTemplate.from_messages(\n",
    "    [\n",
    "        (\"system\", system_prompt),\n",
    "        (\"human\", \"{input}\"),\n",
    "    ]\n",
    ")\n"
   ]
  },
  {
   "cell_type": "code",
   "execution_count": 34,
   "id": "6dcbd732",
   "metadata": {},
   "outputs": [],
   "source": [
    "question_answer_chain = create_stuff_documents_chain(llm, prompt)\n",
    "rag_chain = create_retrieval_chain(retriever, question_answer_chain)"
   ]
  },
  {
   "cell_type": "code",
   "execution_count": 35,
   "id": "1fc58387",
   "metadata": {},
   "outputs": [
    {
     "name": "stdout",
     "output_type": "stream",
     "text": [
      "\n",
      "\n",
      "Acromegaly is caused by overproduction of growth hormone (GH) by the pituitary gland. This overproduction causes increased growth in bone and soft tissue, as well as a variety of other disturbances throughout the body.\n",
      "\n",
      "Symptoms\n",
      "Acromegaly is characterized by a gradual increase in height, weight gain, and an enlargement of the hands and feet. The enlargement of the hands and feet can be so severe that they become deformed and difficult to walk. Other symptoms may include a deepened voice, thickening of the skin, oily skin, joint pain, and difficulty sleeping.\n",
      "\n",
      "Diagnosis\n",
      "Diagnosis of acromegaly is based on a combination of clinical symptoms, laboratory tests, and imaging studies. The primary diagnostic test for acromegaly is a laboratory test that measures the level of insulin-like growth factor-1 (IGF-1) in the blood. IGF-1 levels are typically elevated in acromegaly.\n",
      "\n",
      "Treatment\n",
      "The treatment of acromegaly is aimed at reducing the production of GH by the pituitary gland. This can be accomplished through surgery, radiation therapy, or medications. Surgery is the most effective treatment for acromegaly, but it carries the risk of complications such as bleeding, infection, and damage to surrounding structures. Radiation therapy is less effective than surgery but has fewer side effects. Medications can also be used to reduce GH production, but they have limited effectiveness and may cause side effects such as nausea and vomiting.\n",
      "\n",
      "Prevention\n",
      "There is no known prevention for acromegaly. However, early diagnosis and treatment can help to prevent or minimize the symptoms of the disorder.\n",
      "\n",
      "Prognosis\n",
      "The prognosis for acromegaly depends on the severity of the symptoms and the underlying cause of the disorder. With appropriate treatment, many patients with acromegaly can lead normal lives. However, in some cases, the disorder may progress to severe symptoms such as joint pain, difficulty sleeping, and an increased risk of heart disease.\n",
      "\n",
      "Conclusion\n",
      "Acromegaly is a rare disorder caused by overproduction of growth hormone by the pituitary gland. Symptoms include gradual increase in height, weight gain, and enlargement of the hands and feet.\n"
     ]
    }
   ],
   "source": [
    "response = rag_chain.invoke({\"input\": \"what is Acromegaly?\"})\n",
    "print(response[\"answer\"])\n"
   ]
  },
  {
   "cell_type": "code",
   "execution_count": 36,
   "id": "ac192f92",
   "metadata": {},
   "outputs": [
    {
     "name": "stdout",
     "output_type": "stream",
     "text": [
      "\n",
      "\n",
      "AshaAI: Stats, in the context of sports, refers to the collection and analysis of data related to various aspects of a sport, such as performance metrics, player statistics, and team performance. This data can be used to inform training and coaching strategies, as well as to evaluate the effectiveness of different tactics and strategies. Stats can also be used to identify trends and patterns in player performance and team performance, which can help teams make more informed decisions about their strategies and tactics.\n"
     ]
    }
   ],
   "source": [
    "response = rag_chain.invoke({\"input\": \"What is stats?\"})\n",
    "print(response[\"answer\"])"
   ]
  }
 ],
 "metadata": {
  "kernelspec": {
   "display_name": "ashaai",
   "language": "python",
   "name": "python3"
  },
  "language_info": {
   "codemirror_mode": {
    "name": "ipython",
    "version": 3
   },
   "file_extension": ".py",
   "mimetype": "text/x-python",
   "name": "python",
   "nbconvert_exporter": "python",
   "pygments_lexer": "ipython3",
   "version": "3.10.16"
  }
 },
 "nbformat": 4,
 "nbformat_minor": 5
}
